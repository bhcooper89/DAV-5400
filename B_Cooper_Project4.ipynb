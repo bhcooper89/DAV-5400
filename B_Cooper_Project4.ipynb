{
 "cells": [
  {
   "cell_type": "markdown",
   "metadata": {},
   "source": [
    "# Project 4\n",
    "\n",
    "## Phase I: Data Acquisition, Data Preparation & Exploratory Data Analysis\n",
    "\n",
    "There specific values that I want to look at to see if there are any relations between them and if they are edible or poisonous.  The ones I want to look at are odor, cap-color, gill-color, and habitat.  I feel that looking at these, specifically how they look, how they smell, and where they are, will help spread some light and help with my predictive analysis later on."
   ]
  },
  {
   "cell_type": "markdown",
   "metadata": {},
   "source": [
    "### Importing libraries and dataset\n",
    "\n",
    "I chose to take the dataset and upload it to my personal Github where I could access it for this project"
   ]
  },
  {
   "cell_type": "code",
   "execution_count": 10,
   "metadata": {},
   "outputs": [
    {
     "data": {
      "text/html": [
       "<div>\n",
       "<style scoped>\n",
       "    .dataframe tbody tr th:only-of-type {\n",
       "        vertical-align: middle;\n",
       "    }\n",
       "\n",
       "    .dataframe tbody tr th {\n",
       "        vertical-align: top;\n",
       "    }\n",
       "\n",
       "    .dataframe thead th {\n",
       "        text-align: right;\n",
       "    }\n",
       "</style>\n",
       "<table border=\"1\" class=\"dataframe\">\n",
       "  <thead>\n",
       "    <tr style=\"text-align: right;\">\n",
       "      <th></th>\n",
       "      <th>class</th>\n",
       "      <th>cap-shape</th>\n",
       "      <th>cap-surface</th>\n",
       "      <th>cap-color</th>\n",
       "      <th>bruises?</th>\n",
       "      <th>odor</th>\n",
       "      <th>gill-attachment</th>\n",
       "      <th>gill-spacing</th>\n",
       "      <th>gill-size</th>\n",
       "      <th>gill-color</th>\n",
       "      <th>...</th>\n",
       "      <th>stalk-surface-below-ring</th>\n",
       "      <th>stalk-color-above-ring</th>\n",
       "      <th>stalk-color-below-ring</th>\n",
       "      <th>veil-type</th>\n",
       "      <th>veil-color</th>\n",
       "      <th>ring-number</th>\n",
       "      <th>ring-type</th>\n",
       "      <th>spore-print-color</th>\n",
       "      <th>population</th>\n",
       "      <th>habitat</th>\n",
       "    </tr>\n",
       "  </thead>\n",
       "  <tbody>\n",
       "    <tr>\n",
       "      <th>0</th>\n",
       "      <td>p</td>\n",
       "      <td>x</td>\n",
       "      <td>s</td>\n",
       "      <td>n</td>\n",
       "      <td>t</td>\n",
       "      <td>p</td>\n",
       "      <td>f</td>\n",
       "      <td>c</td>\n",
       "      <td>n</td>\n",
       "      <td>k</td>\n",
       "      <td>...</td>\n",
       "      <td>s</td>\n",
       "      <td>w</td>\n",
       "      <td>w</td>\n",
       "      <td>p</td>\n",
       "      <td>w</td>\n",
       "      <td>o</td>\n",
       "      <td>p</td>\n",
       "      <td>k</td>\n",
       "      <td>s</td>\n",
       "      <td>u</td>\n",
       "    </tr>\n",
       "    <tr>\n",
       "      <th>1</th>\n",
       "      <td>e</td>\n",
       "      <td>x</td>\n",
       "      <td>s</td>\n",
       "      <td>y</td>\n",
       "      <td>t</td>\n",
       "      <td>a</td>\n",
       "      <td>f</td>\n",
       "      <td>c</td>\n",
       "      <td>b</td>\n",
       "      <td>k</td>\n",
       "      <td>...</td>\n",
       "      <td>s</td>\n",
       "      <td>w</td>\n",
       "      <td>w</td>\n",
       "      <td>p</td>\n",
       "      <td>w</td>\n",
       "      <td>o</td>\n",
       "      <td>p</td>\n",
       "      <td>n</td>\n",
       "      <td>n</td>\n",
       "      <td>g</td>\n",
       "    </tr>\n",
       "    <tr>\n",
       "      <th>2</th>\n",
       "      <td>e</td>\n",
       "      <td>b</td>\n",
       "      <td>s</td>\n",
       "      <td>w</td>\n",
       "      <td>t</td>\n",
       "      <td>l</td>\n",
       "      <td>f</td>\n",
       "      <td>c</td>\n",
       "      <td>b</td>\n",
       "      <td>n</td>\n",
       "      <td>...</td>\n",
       "      <td>s</td>\n",
       "      <td>w</td>\n",
       "      <td>w</td>\n",
       "      <td>p</td>\n",
       "      <td>w</td>\n",
       "      <td>o</td>\n",
       "      <td>p</td>\n",
       "      <td>n</td>\n",
       "      <td>n</td>\n",
       "      <td>m</td>\n",
       "    </tr>\n",
       "    <tr>\n",
       "      <th>3</th>\n",
       "      <td>p</td>\n",
       "      <td>x</td>\n",
       "      <td>y</td>\n",
       "      <td>w</td>\n",
       "      <td>t</td>\n",
       "      <td>p</td>\n",
       "      <td>f</td>\n",
       "      <td>c</td>\n",
       "      <td>n</td>\n",
       "      <td>n</td>\n",
       "      <td>...</td>\n",
       "      <td>s</td>\n",
       "      <td>w</td>\n",
       "      <td>w</td>\n",
       "      <td>p</td>\n",
       "      <td>w</td>\n",
       "      <td>o</td>\n",
       "      <td>p</td>\n",
       "      <td>k</td>\n",
       "      <td>s</td>\n",
       "      <td>u</td>\n",
       "    </tr>\n",
       "    <tr>\n",
       "      <th>4</th>\n",
       "      <td>e</td>\n",
       "      <td>x</td>\n",
       "      <td>s</td>\n",
       "      <td>g</td>\n",
       "      <td>f</td>\n",
       "      <td>n</td>\n",
       "      <td>f</td>\n",
       "      <td>w</td>\n",
       "      <td>b</td>\n",
       "      <td>k</td>\n",
       "      <td>...</td>\n",
       "      <td>s</td>\n",
       "      <td>w</td>\n",
       "      <td>w</td>\n",
       "      <td>p</td>\n",
       "      <td>w</td>\n",
       "      <td>o</td>\n",
       "      <td>e</td>\n",
       "      <td>n</td>\n",
       "      <td>a</td>\n",
       "      <td>g</td>\n",
       "    </tr>\n",
       "    <tr>\n",
       "      <th>...</th>\n",
       "      <td>...</td>\n",
       "      <td>...</td>\n",
       "      <td>...</td>\n",
       "      <td>...</td>\n",
       "      <td>...</td>\n",
       "      <td>...</td>\n",
       "      <td>...</td>\n",
       "      <td>...</td>\n",
       "      <td>...</td>\n",
       "      <td>...</td>\n",
       "      <td>...</td>\n",
       "      <td>...</td>\n",
       "      <td>...</td>\n",
       "      <td>...</td>\n",
       "      <td>...</td>\n",
       "      <td>...</td>\n",
       "      <td>...</td>\n",
       "      <td>...</td>\n",
       "      <td>...</td>\n",
       "      <td>...</td>\n",
       "      <td>...</td>\n",
       "    </tr>\n",
       "    <tr>\n",
       "      <th>8119</th>\n",
       "      <td>e</td>\n",
       "      <td>k</td>\n",
       "      <td>s</td>\n",
       "      <td>n</td>\n",
       "      <td>f</td>\n",
       "      <td>n</td>\n",
       "      <td>a</td>\n",
       "      <td>c</td>\n",
       "      <td>b</td>\n",
       "      <td>y</td>\n",
       "      <td>...</td>\n",
       "      <td>s</td>\n",
       "      <td>o</td>\n",
       "      <td>o</td>\n",
       "      <td>p</td>\n",
       "      <td>o</td>\n",
       "      <td>o</td>\n",
       "      <td>p</td>\n",
       "      <td>b</td>\n",
       "      <td>c</td>\n",
       "      <td>l</td>\n",
       "    </tr>\n",
       "    <tr>\n",
       "      <th>8120</th>\n",
       "      <td>e</td>\n",
       "      <td>x</td>\n",
       "      <td>s</td>\n",
       "      <td>n</td>\n",
       "      <td>f</td>\n",
       "      <td>n</td>\n",
       "      <td>a</td>\n",
       "      <td>c</td>\n",
       "      <td>b</td>\n",
       "      <td>y</td>\n",
       "      <td>...</td>\n",
       "      <td>s</td>\n",
       "      <td>o</td>\n",
       "      <td>o</td>\n",
       "      <td>p</td>\n",
       "      <td>n</td>\n",
       "      <td>o</td>\n",
       "      <td>p</td>\n",
       "      <td>b</td>\n",
       "      <td>v</td>\n",
       "      <td>l</td>\n",
       "    </tr>\n",
       "    <tr>\n",
       "      <th>8121</th>\n",
       "      <td>e</td>\n",
       "      <td>f</td>\n",
       "      <td>s</td>\n",
       "      <td>n</td>\n",
       "      <td>f</td>\n",
       "      <td>n</td>\n",
       "      <td>a</td>\n",
       "      <td>c</td>\n",
       "      <td>b</td>\n",
       "      <td>n</td>\n",
       "      <td>...</td>\n",
       "      <td>s</td>\n",
       "      <td>o</td>\n",
       "      <td>o</td>\n",
       "      <td>p</td>\n",
       "      <td>o</td>\n",
       "      <td>o</td>\n",
       "      <td>p</td>\n",
       "      <td>b</td>\n",
       "      <td>c</td>\n",
       "      <td>l</td>\n",
       "    </tr>\n",
       "    <tr>\n",
       "      <th>8122</th>\n",
       "      <td>p</td>\n",
       "      <td>k</td>\n",
       "      <td>y</td>\n",
       "      <td>n</td>\n",
       "      <td>f</td>\n",
       "      <td>y</td>\n",
       "      <td>f</td>\n",
       "      <td>c</td>\n",
       "      <td>n</td>\n",
       "      <td>b</td>\n",
       "      <td>...</td>\n",
       "      <td>k</td>\n",
       "      <td>w</td>\n",
       "      <td>w</td>\n",
       "      <td>p</td>\n",
       "      <td>w</td>\n",
       "      <td>o</td>\n",
       "      <td>e</td>\n",
       "      <td>w</td>\n",
       "      <td>v</td>\n",
       "      <td>l</td>\n",
       "    </tr>\n",
       "    <tr>\n",
       "      <th>8123</th>\n",
       "      <td>e</td>\n",
       "      <td>x</td>\n",
       "      <td>s</td>\n",
       "      <td>n</td>\n",
       "      <td>f</td>\n",
       "      <td>n</td>\n",
       "      <td>a</td>\n",
       "      <td>c</td>\n",
       "      <td>b</td>\n",
       "      <td>y</td>\n",
       "      <td>...</td>\n",
       "      <td>s</td>\n",
       "      <td>o</td>\n",
       "      <td>o</td>\n",
       "      <td>p</td>\n",
       "      <td>o</td>\n",
       "      <td>o</td>\n",
       "      <td>p</td>\n",
       "      <td>o</td>\n",
       "      <td>c</td>\n",
       "      <td>l</td>\n",
       "    </tr>\n",
       "  </tbody>\n",
       "</table>\n",
       "<p>8124 rows × 23 columns</p>\n",
       "</div>"
      ],
      "text/plain": [
       "     class cap-shape cap-surface cap-color bruises? odor gill-attachment  \\\n",
       "0        p         x           s         n        t    p               f   \n",
       "1        e         x           s         y        t    a               f   \n",
       "2        e         b           s         w        t    l               f   \n",
       "3        p         x           y         w        t    p               f   \n",
       "4        e         x           s         g        f    n               f   \n",
       "...    ...       ...         ...       ...      ...  ...             ...   \n",
       "8119     e         k           s         n        f    n               a   \n",
       "8120     e         x           s         n        f    n               a   \n",
       "8121     e         f           s         n        f    n               a   \n",
       "8122     p         k           y         n        f    y               f   \n",
       "8123     e         x           s         n        f    n               a   \n",
       "\n",
       "     gill-spacing gill-size gill-color  ... stalk-surface-below-ring  \\\n",
       "0               c         n          k  ...                        s   \n",
       "1               c         b          k  ...                        s   \n",
       "2               c         b          n  ...                        s   \n",
       "3               c         n          n  ...                        s   \n",
       "4               w         b          k  ...                        s   \n",
       "...           ...       ...        ...  ...                      ...   \n",
       "8119            c         b          y  ...                        s   \n",
       "8120            c         b          y  ...                        s   \n",
       "8121            c         b          n  ...                        s   \n",
       "8122            c         n          b  ...                        k   \n",
       "8123            c         b          y  ...                        s   \n",
       "\n",
       "     stalk-color-above-ring stalk-color-below-ring veil-type veil-color  \\\n",
       "0                         w                      w         p          w   \n",
       "1                         w                      w         p          w   \n",
       "2                         w                      w         p          w   \n",
       "3                         w                      w         p          w   \n",
       "4                         w                      w         p          w   \n",
       "...                     ...                    ...       ...        ...   \n",
       "8119                      o                      o         p          o   \n",
       "8120                      o                      o         p          n   \n",
       "8121                      o                      o         p          o   \n",
       "8122                      w                      w         p          w   \n",
       "8123                      o                      o         p          o   \n",
       "\n",
       "     ring-number ring-type spore-print-color population habitat  \n",
       "0              o         p                 k          s       u  \n",
       "1              o         p                 n          n       g  \n",
       "2              o         p                 n          n       m  \n",
       "3              o         p                 k          s       u  \n",
       "4              o         e                 n          a       g  \n",
       "...          ...       ...               ...        ...     ...  \n",
       "8119           o         p                 b          c       l  \n",
       "8120           o         p                 b          v       l  \n",
       "8121           o         p                 b          c       l  \n",
       "8122           o         e                 w          v       l  \n",
       "8123           o         p                 o          c       l  \n",
       "\n",
       "[8124 rows x 23 columns]"
      ]
     },
     "execution_count": 10,
     "metadata": {},
     "output_type": "execute_result"
    }
   ],
   "source": [
    "import csv\n",
    "import pandas as pd \n",
    "import numpy as np\n",
    "import json\n",
    "import re\n",
    "import seaborn as sns\n",
    "import matplotlib.pyplot as plt\n",
    "\n",
    "\n",
    "\n",
    "#pd.set_option('display.max_columns', 60)  # I have these turned off as it wouldn't make a difference anyway\n",
    "#pd.set_option('display.max_rows', 60)     # considering how biug the dataset is\n",
    "mushroom = pd.read_csv(\"https://raw.githubusercontent.com/bhcooper89/DAV-5400/main/agaricus-lepiota-data.txt\")\n",
    "mushroom"
   ]
  },
  {
   "cell_type": "markdown",
   "metadata": {},
   "source": [
    "Now we create our sub-dataframe that contains just the columns that we are trying to do EDA on."
   ]
  },
  {
   "cell_type": "code",
   "execution_count": 11,
   "metadata": {},
   "outputs": [
    {
     "data": {
      "text/html": [
       "<div>\n",
       "<style scoped>\n",
       "    .dataframe tbody tr th:only-of-type {\n",
       "        vertical-align: middle;\n",
       "    }\n",
       "\n",
       "    .dataframe tbody tr th {\n",
       "        vertical-align: top;\n",
       "    }\n",
       "\n",
       "    .dataframe thead th {\n",
       "        text-align: right;\n",
       "    }\n",
       "</style>\n",
       "<table border=\"1\" class=\"dataframe\">\n",
       "  <thead>\n",
       "    <tr style=\"text-align: right;\">\n",
       "      <th></th>\n",
       "      <th>class</th>\n",
       "      <th>odor</th>\n",
       "      <th>cap-color</th>\n",
       "      <th>gill-color</th>\n",
       "      <th>habitat</th>\n",
       "    </tr>\n",
       "  </thead>\n",
       "  <tbody>\n",
       "    <tr>\n",
       "      <th>0</th>\n",
       "      <td>p</td>\n",
       "      <td>p</td>\n",
       "      <td>n</td>\n",
       "      <td>k</td>\n",
       "      <td>u</td>\n",
       "    </tr>\n",
       "    <tr>\n",
       "      <th>1</th>\n",
       "      <td>e</td>\n",
       "      <td>a</td>\n",
       "      <td>y</td>\n",
       "      <td>k</td>\n",
       "      <td>g</td>\n",
       "    </tr>\n",
       "    <tr>\n",
       "      <th>2</th>\n",
       "      <td>e</td>\n",
       "      <td>l</td>\n",
       "      <td>w</td>\n",
       "      <td>n</td>\n",
       "      <td>m</td>\n",
       "    </tr>\n",
       "    <tr>\n",
       "      <th>3</th>\n",
       "      <td>p</td>\n",
       "      <td>p</td>\n",
       "      <td>w</td>\n",
       "      <td>n</td>\n",
       "      <td>u</td>\n",
       "    </tr>\n",
       "    <tr>\n",
       "      <th>4</th>\n",
       "      <td>e</td>\n",
       "      <td>n</td>\n",
       "      <td>g</td>\n",
       "      <td>k</td>\n",
       "      <td>g</td>\n",
       "    </tr>\n",
       "    <tr>\n",
       "      <th>...</th>\n",
       "      <td>...</td>\n",
       "      <td>...</td>\n",
       "      <td>...</td>\n",
       "      <td>...</td>\n",
       "      <td>...</td>\n",
       "    </tr>\n",
       "    <tr>\n",
       "      <th>8119</th>\n",
       "      <td>e</td>\n",
       "      <td>n</td>\n",
       "      <td>n</td>\n",
       "      <td>y</td>\n",
       "      <td>l</td>\n",
       "    </tr>\n",
       "    <tr>\n",
       "      <th>8120</th>\n",
       "      <td>e</td>\n",
       "      <td>n</td>\n",
       "      <td>n</td>\n",
       "      <td>y</td>\n",
       "      <td>l</td>\n",
       "    </tr>\n",
       "    <tr>\n",
       "      <th>8121</th>\n",
       "      <td>e</td>\n",
       "      <td>n</td>\n",
       "      <td>n</td>\n",
       "      <td>n</td>\n",
       "      <td>l</td>\n",
       "    </tr>\n",
       "    <tr>\n",
       "      <th>8122</th>\n",
       "      <td>p</td>\n",
       "      <td>y</td>\n",
       "      <td>n</td>\n",
       "      <td>b</td>\n",
       "      <td>l</td>\n",
       "    </tr>\n",
       "    <tr>\n",
       "      <th>8123</th>\n",
       "      <td>e</td>\n",
       "      <td>n</td>\n",
       "      <td>n</td>\n",
       "      <td>y</td>\n",
       "      <td>l</td>\n",
       "    </tr>\n",
       "  </tbody>\n",
       "</table>\n",
       "<p>8124 rows × 5 columns</p>\n",
       "</div>"
      ],
      "text/plain": [
       "     class odor cap-color gill-color habitat\n",
       "0        p    p         n          k       u\n",
       "1        e    a         y          k       g\n",
       "2        e    l         w          n       m\n",
       "3        p    p         w          n       u\n",
       "4        e    n         g          k       g\n",
       "...    ...  ...       ...        ...     ...\n",
       "8119     e    n         n          y       l\n",
       "8120     e    n         n          y       l\n",
       "8121     e    n         n          n       l\n",
       "8122     p    y         n          b       l\n",
       "8123     e    n         n          y       l\n",
       "\n",
       "[8124 rows x 5 columns]"
      ]
     },
     "execution_count": 11,
     "metadata": {},
     "output_type": "execute_result"
    }
   ],
   "source": [
    "mush_df = pd.DataFrame(mushroom,columns=['class', 'odor', 'cap-color', 'gill-color', 'habitat'])\n",
    "mush_df"
   ]
  },
  {
   "cell_type": "markdown",
   "metadata": {},
   "source": [
    "Now I am going to do the first column renaming, there will be a second one after dummy variables are added.  Then using the replace function, I will change the values in the new 'Ediable/Poison Ind' column with all 'e' going to 0 and all 'p' going to 1.\n",
    "\n",
    "Source: https://pandas.pydata.org/docs/reference/api/pandas.DataFrame.replace.html"
   ]
  },
  {
   "cell_type": "code",
   "execution_count": 12,
   "metadata": {},
   "outputs": [
    {
     "data": {
      "text/html": [
       "<div>\n",
       "<style scoped>\n",
       "    .dataframe tbody tr th:only-of-type {\n",
       "        vertical-align: middle;\n",
       "    }\n",
       "\n",
       "    .dataframe tbody tr th {\n",
       "        vertical-align: top;\n",
       "    }\n",
       "\n",
       "    .dataframe thead th {\n",
       "        text-align: right;\n",
       "    }\n",
       "</style>\n",
       "<table border=\"1\" class=\"dataframe\">\n",
       "  <thead>\n",
       "    <tr style=\"text-align: right;\">\n",
       "      <th></th>\n",
       "      <th>Edible/Poison Ind</th>\n",
       "      <th>Odor Ind</th>\n",
       "      <th>Cap Color Ind</th>\n",
       "      <th>Gill Color Ind</th>\n",
       "      <th>Habitat Ind</th>\n",
       "    </tr>\n",
       "  </thead>\n",
       "  <tbody>\n",
       "    <tr>\n",
       "      <th>0</th>\n",
       "      <td>1</td>\n",
       "      <td>p</td>\n",
       "      <td>n</td>\n",
       "      <td>k</td>\n",
       "      <td>u</td>\n",
       "    </tr>\n",
       "    <tr>\n",
       "      <th>1</th>\n",
       "      <td>0</td>\n",
       "      <td>a</td>\n",
       "      <td>y</td>\n",
       "      <td>k</td>\n",
       "      <td>g</td>\n",
       "    </tr>\n",
       "    <tr>\n",
       "      <th>2</th>\n",
       "      <td>0</td>\n",
       "      <td>l</td>\n",
       "      <td>w</td>\n",
       "      <td>n</td>\n",
       "      <td>m</td>\n",
       "    </tr>\n",
       "    <tr>\n",
       "      <th>3</th>\n",
       "      <td>1</td>\n",
       "      <td>p</td>\n",
       "      <td>w</td>\n",
       "      <td>n</td>\n",
       "      <td>u</td>\n",
       "    </tr>\n",
       "    <tr>\n",
       "      <th>4</th>\n",
       "      <td>0</td>\n",
       "      <td>n</td>\n",
       "      <td>g</td>\n",
       "      <td>k</td>\n",
       "      <td>g</td>\n",
       "    </tr>\n",
       "    <tr>\n",
       "      <th>...</th>\n",
       "      <td>...</td>\n",
       "      <td>...</td>\n",
       "      <td>...</td>\n",
       "      <td>...</td>\n",
       "      <td>...</td>\n",
       "    </tr>\n",
       "    <tr>\n",
       "      <th>8119</th>\n",
       "      <td>0</td>\n",
       "      <td>n</td>\n",
       "      <td>n</td>\n",
       "      <td>y</td>\n",
       "      <td>l</td>\n",
       "    </tr>\n",
       "    <tr>\n",
       "      <th>8120</th>\n",
       "      <td>0</td>\n",
       "      <td>n</td>\n",
       "      <td>n</td>\n",
       "      <td>y</td>\n",
       "      <td>l</td>\n",
       "    </tr>\n",
       "    <tr>\n",
       "      <th>8121</th>\n",
       "      <td>0</td>\n",
       "      <td>n</td>\n",
       "      <td>n</td>\n",
       "      <td>n</td>\n",
       "      <td>l</td>\n",
       "    </tr>\n",
       "    <tr>\n",
       "      <th>8122</th>\n",
       "      <td>1</td>\n",
       "      <td>y</td>\n",
       "      <td>n</td>\n",
       "      <td>b</td>\n",
       "      <td>l</td>\n",
       "    </tr>\n",
       "    <tr>\n",
       "      <th>8123</th>\n",
       "      <td>0</td>\n",
       "      <td>n</td>\n",
       "      <td>n</td>\n",
       "      <td>y</td>\n",
       "      <td>l</td>\n",
       "    </tr>\n",
       "  </tbody>\n",
       "</table>\n",
       "<p>8124 rows × 5 columns</p>\n",
       "</div>"
      ],
      "text/plain": [
       "      Edible/Poison Ind Odor Ind Cap Color Ind Gill Color Ind Habitat Ind\n",
       "0                     1        p             n              k           u\n",
       "1                     0        a             y              k           g\n",
       "2                     0        l             w              n           m\n",
       "3                     1        p             w              n           u\n",
       "4                     0        n             g              k           g\n",
       "...                 ...      ...           ...            ...         ...\n",
       "8119                  0        n             n              y           l\n",
       "8120                  0        n             n              y           l\n",
       "8121                  0        n             n              n           l\n",
       "8122                  1        y             n              b           l\n",
       "8123                  0        n             n              y           l\n",
       "\n",
       "[8124 rows x 5 columns]"
      ]
     },
     "execution_count": 12,
     "metadata": {},
     "output_type": "execute_result"
    }
   ],
   "source": [
    "mush_df = mush_df.rename(columns={'class' : 'Edible/Poison Ind', 'odor' : 'Odor Ind', 'cap-color' : 'Cap Color Ind',\n",
    "                                  'gill-color' : 'Gill Color Ind', 'habitat' : 'Habitat Ind'})\n",
    "mush_df = mush_df.replace({'Edible/Poison Ind' : {'e' : 0, 'p' : 1}})\n",
    "mush_df"
   ]
  },
  {
   "cell_type": "markdown",
   "metadata": {},
   "source": [
    "Now we can add our dummy variables unsing the get_dummies function."
   ]
  },
  {
   "cell_type": "code",
   "execution_count": 13,
   "metadata": {},
   "outputs": [
    {
     "data": {
      "text/html": [
       "<div>\n",
       "<style scoped>\n",
       "    .dataframe tbody tr th:only-of-type {\n",
       "        vertical-align: middle;\n",
       "    }\n",
       "\n",
       "    .dataframe tbody tr th {\n",
       "        vertical-align: top;\n",
       "    }\n",
       "\n",
       "    .dataframe thead th {\n",
       "        text-align: right;\n",
       "    }\n",
       "</style>\n",
       "<table border=\"1\" class=\"dataframe\">\n",
       "  <thead>\n",
       "    <tr style=\"text-align: right;\">\n",
       "      <th></th>\n",
       "      <th>Edible/Poison Ind</th>\n",
       "      <th>Odor Ind_a</th>\n",
       "      <th>Odor Ind_c</th>\n",
       "      <th>Odor Ind_f</th>\n",
       "      <th>Odor Ind_l</th>\n",
       "      <th>Odor Ind_m</th>\n",
       "      <th>Odor Ind_n</th>\n",
       "      <th>Odor Ind_p</th>\n",
       "      <th>Odor Ind_s</th>\n",
       "      <th>Odor Ind_y</th>\n",
       "      <th>...</th>\n",
       "      <th>Gill Color Ind_u</th>\n",
       "      <th>Gill Color Ind_w</th>\n",
       "      <th>Gill Color Ind_y</th>\n",
       "      <th>Habitat Ind_d</th>\n",
       "      <th>Habitat Ind_g</th>\n",
       "      <th>Habitat Ind_l</th>\n",
       "      <th>Habitat Ind_m</th>\n",
       "      <th>Habitat Ind_p</th>\n",
       "      <th>Habitat Ind_u</th>\n",
       "      <th>Habitat Ind_w</th>\n",
       "    </tr>\n",
       "  </thead>\n",
       "  <tbody>\n",
       "    <tr>\n",
       "      <th>0</th>\n",
       "      <td>1</td>\n",
       "      <td>0</td>\n",
       "      <td>0</td>\n",
       "      <td>0</td>\n",
       "      <td>0</td>\n",
       "      <td>0</td>\n",
       "      <td>0</td>\n",
       "      <td>1</td>\n",
       "      <td>0</td>\n",
       "      <td>0</td>\n",
       "      <td>...</td>\n",
       "      <td>0</td>\n",
       "      <td>0</td>\n",
       "      <td>0</td>\n",
       "      <td>0</td>\n",
       "      <td>0</td>\n",
       "      <td>0</td>\n",
       "      <td>0</td>\n",
       "      <td>0</td>\n",
       "      <td>1</td>\n",
       "      <td>0</td>\n",
       "    </tr>\n",
       "    <tr>\n",
       "      <th>1</th>\n",
       "      <td>0</td>\n",
       "      <td>1</td>\n",
       "      <td>0</td>\n",
       "      <td>0</td>\n",
       "      <td>0</td>\n",
       "      <td>0</td>\n",
       "      <td>0</td>\n",
       "      <td>0</td>\n",
       "      <td>0</td>\n",
       "      <td>0</td>\n",
       "      <td>...</td>\n",
       "      <td>0</td>\n",
       "      <td>0</td>\n",
       "      <td>0</td>\n",
       "      <td>0</td>\n",
       "      <td>1</td>\n",
       "      <td>0</td>\n",
       "      <td>0</td>\n",
       "      <td>0</td>\n",
       "      <td>0</td>\n",
       "      <td>0</td>\n",
       "    </tr>\n",
       "    <tr>\n",
       "      <th>2</th>\n",
       "      <td>0</td>\n",
       "      <td>0</td>\n",
       "      <td>0</td>\n",
       "      <td>0</td>\n",
       "      <td>1</td>\n",
       "      <td>0</td>\n",
       "      <td>0</td>\n",
       "      <td>0</td>\n",
       "      <td>0</td>\n",
       "      <td>0</td>\n",
       "      <td>...</td>\n",
       "      <td>0</td>\n",
       "      <td>0</td>\n",
       "      <td>0</td>\n",
       "      <td>0</td>\n",
       "      <td>0</td>\n",
       "      <td>0</td>\n",
       "      <td>1</td>\n",
       "      <td>0</td>\n",
       "      <td>0</td>\n",
       "      <td>0</td>\n",
       "    </tr>\n",
       "    <tr>\n",
       "      <th>3</th>\n",
       "      <td>1</td>\n",
       "      <td>0</td>\n",
       "      <td>0</td>\n",
       "      <td>0</td>\n",
       "      <td>0</td>\n",
       "      <td>0</td>\n",
       "      <td>0</td>\n",
       "      <td>1</td>\n",
       "      <td>0</td>\n",
       "      <td>0</td>\n",
       "      <td>...</td>\n",
       "      <td>0</td>\n",
       "      <td>0</td>\n",
       "      <td>0</td>\n",
       "      <td>0</td>\n",
       "      <td>0</td>\n",
       "      <td>0</td>\n",
       "      <td>0</td>\n",
       "      <td>0</td>\n",
       "      <td>1</td>\n",
       "      <td>0</td>\n",
       "    </tr>\n",
       "    <tr>\n",
       "      <th>4</th>\n",
       "      <td>0</td>\n",
       "      <td>0</td>\n",
       "      <td>0</td>\n",
       "      <td>0</td>\n",
       "      <td>0</td>\n",
       "      <td>0</td>\n",
       "      <td>1</td>\n",
       "      <td>0</td>\n",
       "      <td>0</td>\n",
       "      <td>0</td>\n",
       "      <td>...</td>\n",
       "      <td>0</td>\n",
       "      <td>0</td>\n",
       "      <td>0</td>\n",
       "      <td>0</td>\n",
       "      <td>1</td>\n",
       "      <td>0</td>\n",
       "      <td>0</td>\n",
       "      <td>0</td>\n",
       "      <td>0</td>\n",
       "      <td>0</td>\n",
       "    </tr>\n",
       "    <tr>\n",
       "      <th>...</th>\n",
       "      <td>...</td>\n",
       "      <td>...</td>\n",
       "      <td>...</td>\n",
       "      <td>...</td>\n",
       "      <td>...</td>\n",
       "      <td>...</td>\n",
       "      <td>...</td>\n",
       "      <td>...</td>\n",
       "      <td>...</td>\n",
       "      <td>...</td>\n",
       "      <td>...</td>\n",
       "      <td>...</td>\n",
       "      <td>...</td>\n",
       "      <td>...</td>\n",
       "      <td>...</td>\n",
       "      <td>...</td>\n",
       "      <td>...</td>\n",
       "      <td>...</td>\n",
       "      <td>...</td>\n",
       "      <td>...</td>\n",
       "      <td>...</td>\n",
       "    </tr>\n",
       "    <tr>\n",
       "      <th>8119</th>\n",
       "      <td>0</td>\n",
       "      <td>0</td>\n",
       "      <td>0</td>\n",
       "      <td>0</td>\n",
       "      <td>0</td>\n",
       "      <td>0</td>\n",
       "      <td>1</td>\n",
       "      <td>0</td>\n",
       "      <td>0</td>\n",
       "      <td>0</td>\n",
       "      <td>...</td>\n",
       "      <td>0</td>\n",
       "      <td>0</td>\n",
       "      <td>1</td>\n",
       "      <td>0</td>\n",
       "      <td>0</td>\n",
       "      <td>1</td>\n",
       "      <td>0</td>\n",
       "      <td>0</td>\n",
       "      <td>0</td>\n",
       "      <td>0</td>\n",
       "    </tr>\n",
       "    <tr>\n",
       "      <th>8120</th>\n",
       "      <td>0</td>\n",
       "      <td>0</td>\n",
       "      <td>0</td>\n",
       "      <td>0</td>\n",
       "      <td>0</td>\n",
       "      <td>0</td>\n",
       "      <td>1</td>\n",
       "      <td>0</td>\n",
       "      <td>0</td>\n",
       "      <td>0</td>\n",
       "      <td>...</td>\n",
       "      <td>0</td>\n",
       "      <td>0</td>\n",
       "      <td>1</td>\n",
       "      <td>0</td>\n",
       "      <td>0</td>\n",
       "      <td>1</td>\n",
       "      <td>0</td>\n",
       "      <td>0</td>\n",
       "      <td>0</td>\n",
       "      <td>0</td>\n",
       "    </tr>\n",
       "    <tr>\n",
       "      <th>8121</th>\n",
       "      <td>0</td>\n",
       "      <td>0</td>\n",
       "      <td>0</td>\n",
       "      <td>0</td>\n",
       "      <td>0</td>\n",
       "      <td>0</td>\n",
       "      <td>1</td>\n",
       "      <td>0</td>\n",
       "      <td>0</td>\n",
       "      <td>0</td>\n",
       "      <td>...</td>\n",
       "      <td>0</td>\n",
       "      <td>0</td>\n",
       "      <td>0</td>\n",
       "      <td>0</td>\n",
       "      <td>0</td>\n",
       "      <td>1</td>\n",
       "      <td>0</td>\n",
       "      <td>0</td>\n",
       "      <td>0</td>\n",
       "      <td>0</td>\n",
       "    </tr>\n",
       "    <tr>\n",
       "      <th>8122</th>\n",
       "      <td>1</td>\n",
       "      <td>0</td>\n",
       "      <td>0</td>\n",
       "      <td>0</td>\n",
       "      <td>0</td>\n",
       "      <td>0</td>\n",
       "      <td>0</td>\n",
       "      <td>0</td>\n",
       "      <td>0</td>\n",
       "      <td>1</td>\n",
       "      <td>...</td>\n",
       "      <td>0</td>\n",
       "      <td>0</td>\n",
       "      <td>0</td>\n",
       "      <td>0</td>\n",
       "      <td>0</td>\n",
       "      <td>1</td>\n",
       "      <td>0</td>\n",
       "      <td>0</td>\n",
       "      <td>0</td>\n",
       "      <td>0</td>\n",
       "    </tr>\n",
       "    <tr>\n",
       "      <th>8123</th>\n",
       "      <td>0</td>\n",
       "      <td>0</td>\n",
       "      <td>0</td>\n",
       "      <td>0</td>\n",
       "      <td>0</td>\n",
       "      <td>0</td>\n",
       "      <td>1</td>\n",
       "      <td>0</td>\n",
       "      <td>0</td>\n",
       "      <td>0</td>\n",
       "      <td>...</td>\n",
       "      <td>0</td>\n",
       "      <td>0</td>\n",
       "      <td>1</td>\n",
       "      <td>0</td>\n",
       "      <td>0</td>\n",
       "      <td>1</td>\n",
       "      <td>0</td>\n",
       "      <td>0</td>\n",
       "      <td>0</td>\n",
       "      <td>0</td>\n",
       "    </tr>\n",
       "  </tbody>\n",
       "</table>\n",
       "<p>8124 rows × 39 columns</p>\n",
       "</div>"
      ],
      "text/plain": [
       "      Edible/Poison Ind  Odor Ind_a  Odor Ind_c  Odor Ind_f  Odor Ind_l  \\\n",
       "0                     1           0           0           0           0   \n",
       "1                     0           1           0           0           0   \n",
       "2                     0           0           0           0           1   \n",
       "3                     1           0           0           0           0   \n",
       "4                     0           0           0           0           0   \n",
       "...                 ...         ...         ...         ...         ...   \n",
       "8119                  0           0           0           0           0   \n",
       "8120                  0           0           0           0           0   \n",
       "8121                  0           0           0           0           0   \n",
       "8122                  1           0           0           0           0   \n",
       "8123                  0           0           0           0           0   \n",
       "\n",
       "      Odor Ind_m  Odor Ind_n  Odor Ind_p  Odor Ind_s  Odor Ind_y  ...  \\\n",
       "0              0           0           1           0           0  ...   \n",
       "1              0           0           0           0           0  ...   \n",
       "2              0           0           0           0           0  ...   \n",
       "3              0           0           1           0           0  ...   \n",
       "4              0           1           0           0           0  ...   \n",
       "...          ...         ...         ...         ...         ...  ...   \n",
       "8119           0           1           0           0           0  ...   \n",
       "8120           0           1           0           0           0  ...   \n",
       "8121           0           1           0           0           0  ...   \n",
       "8122           0           0           0           0           1  ...   \n",
       "8123           0           1           0           0           0  ...   \n",
       "\n",
       "      Gill Color Ind_u  Gill Color Ind_w  Gill Color Ind_y  Habitat Ind_d  \\\n",
       "0                    0                 0                 0              0   \n",
       "1                    0                 0                 0              0   \n",
       "2                    0                 0                 0              0   \n",
       "3                    0                 0                 0              0   \n",
       "4                    0                 0                 0              0   \n",
       "...                ...               ...               ...            ...   \n",
       "8119                 0                 0                 1              0   \n",
       "8120                 0                 0                 1              0   \n",
       "8121                 0                 0                 0              0   \n",
       "8122                 0                 0                 0              0   \n",
       "8123                 0                 0                 1              0   \n",
       "\n",
       "      Habitat Ind_g  Habitat Ind_l  Habitat Ind_m  Habitat Ind_p  \\\n",
       "0                 0              0              0              0   \n",
       "1                 1              0              0              0   \n",
       "2                 0              0              1              0   \n",
       "3                 0              0              0              0   \n",
       "4                 1              0              0              0   \n",
       "...             ...            ...            ...            ...   \n",
       "8119              0              1              0              0   \n",
       "8120              0              1              0              0   \n",
       "8121              0              1              0              0   \n",
       "8122              0              1              0              0   \n",
       "8123              0              1              0              0   \n",
       "\n",
       "      Habitat Ind_u  Habitat Ind_w  \n",
       "0                 1              0  \n",
       "1                 0              0  \n",
       "2                 0              0  \n",
       "3                 1              0  \n",
       "4                 0              0  \n",
       "...             ...            ...  \n",
       "8119              0              0  \n",
       "8120              0              0  \n",
       "8121              0              0  \n",
       "8122              0              0  \n",
       "8123              0              0  \n",
       "\n",
       "[8124 rows x 39 columns]"
      ]
     },
     "execution_count": 13,
     "metadata": {},
     "output_type": "execute_result"
    }
   ],
   "source": [
    "dum = pd.get_dummies(mush_df)\n",
    "dum"
   ]
  },
  {
   "cell_type": "markdown",
   "metadata": {},
   "source": [
    "Now we do the second column renaming to make everything clearer."
   ]
  },
  {
   "cell_type": "code",
   "execution_count": 14,
   "metadata": {},
   "outputs": [
    {
     "data": {
      "text/plain": [
       "Index(['Edible/Poison Ind', 'Odor: Almond', 'Odor: Creosote', 'Odor: Foul',\n",
       "       'Odor: Anise', 'Odor: Musty', 'Odor: None', 'Odor: Pungent',\n",
       "       'Odor: Spicy', 'Odor: Fishy', 'Cap Color: Buff', 'Cap Color: Cinnamon',\n",
       "       'Cap Color: Red', 'Cap Color: Gray', 'Cap Color: Brown',\n",
       "       'Cap Color: Pink', 'Cap Color: Green', 'Cap Color: Purple',\n",
       "       'Cap Color: White', 'Cap Color: Yellow', 'Gill Color: Buff',\n",
       "       'Gill Color: Red', 'Gill Color: Gray', 'Gill Color: Chocolate',\n",
       "       'Gill Color: Black', 'Gill Color: Brown', 'Gill Color: Orange',\n",
       "       'Gill Color: Pink', 'Gill Color: Green', 'Gill Color: Purple',\n",
       "       'Gill Color: White', 'Gill Color: Yellow', 'Habitat: Woods',\n",
       "       'Habitat: Grasses', 'Habitat: Leaves', 'Habitat: Meadows',\n",
       "       'Habitat: Paths', 'Habitat: Urban', 'Habitat: Waste'],\n",
       "      dtype='object')"
      ]
     },
     "execution_count": 14,
     "metadata": {},
     "output_type": "execute_result"
    }
   ],
   "source": [
    "dum = dum.rename(columns={'Odor Ind_a': 'Odor: Almond', 'Odor Ind_c': 'Odor: Creosote', 'Odor Ind_f': 'Odor: Foul',\n",
    "       'Odor Ind_l': 'Odor: Anise', 'Odor Ind_m': 'Odor: Musty', 'Odor Ind_n': 'Odor: None',\n",
    "       'Odor Ind_p': 'Odor: Pungent', 'Odor Ind_s': 'Odor: Spicy','Odor Ind_y': 'Odor: Fishy'})\n",
    "\n",
    "dum = dum.rename(columns={'Cap Color Ind_b': 'Cap Color: Buff', 'Cap Color Ind_c': 'Cap Color: Cinnamon',\n",
    "       'Cap Color Ind_e': 'Cap Color: Red', 'Cap Color Ind_g': 'Cap Color: Gray',\n",
    "       'Cap Color Ind_n': 'Cap Color: Brown', 'Cap Color Ind_p': 'Cap Color: Pink',\n",
    "       'Cap Color Ind_r': 'Cap Color: Green', 'Cap Color Ind_u': 'Cap Color: Purple',\n",
    "       'Cap Color Ind_w': 'Cap Color: White', 'Cap Color Ind_y': 'Cap Color: Yellow'})\n",
    "\n",
    "dum = dum.rename(columns={'Gill Color Ind_b': 'Gill Color: Buff', 'Gill Color Ind_e': 'Gill Color: Red',\n",
    "       'Gill Color Ind_g': 'Gill Color: Gray', 'Gill Color Ind_h': 'Gill Color: Chocolate',\n",
    "       'Gill Color Ind_k': 'Gill Color: Black', 'Gill Color Ind_n': 'Gill Color: Brown',\n",
    "       'Gill Color Ind_o': 'Gill Color: Orange', 'Gill Color Ind_p': 'Gill Color: Pink',\n",
    "       'Gill Color Ind_r': 'Gill Color: Green', 'Gill Color Ind_u': 'Gill Color: Purple',\n",
    "       'Gill Color Ind_w': 'Gill Color: White', 'Gill Color Ind_y': 'Gill Color: Yellow'})\n",
    "\n",
    "dum = dum.rename(columns={'Habitat Ind_d': 'Habitat: Woods', 'Habitat Ind_g': 'Habitat: Grasses',\n",
    "       'Habitat Ind_l': 'Habitat: Leaves', 'Habitat Ind_m': 'Habitat: Meadows', 'Habitat Ind_p': 'Habitat: Paths',\n",
    "       'Habitat Ind_u': 'Habitat: Urban', 'Habitat Ind_w': 'Habitat: Waste'})\n",
    "dum.columns"
   ]
  },
  {
   "cell_type": "markdown",
   "metadata": {},
   "source": [
    "Now we can check the distribution of of the values across the different variables.\n",
    "\n",
    "First thing is checking the each odor against the 'Edible/Poison Ind' to see their distribution.\n",
    "\n",
    "Source: https://medium.com/swlh/quick-guide-to-labelling-data-for-common-seaborn-plots-736e10bf14a9\n",
    "\n",
    "Source: https://jakevdp.github.io/PythonDataScienceHandbook/04.09-text-and-annotation.html\n",
    "\n",
    "Source: https://matplotlib.org/stable/gallery/color/named_colors.html\n",
    "\n",
    "Source: https://www.python-graph-gallery.com/25-histogram-with-several-variables-seaborn"
   ]
  },
  {
   "cell_type": "code",
   "execution_count": 23,
   "metadata": {},
   "outputs": [
    {
     "data": {
      "text/plain": [
       "[Text(0, 0.5, '')]"
      ]
     },
     "execution_count": 23,
     "metadata": {},
     "output_type": "execute_result"
    },
    {
     "data": {
      "image/png": "[encoded data removed]",
      "text/plain": [
       "<Figure size 1080x720 with 3 Axes>"
      ]
     },
     "metadata": {
      "needs_background": "light"
     },
     "output_type": "display_data"
    }
   ],
   "source": [
    "fig, axs = plt.subplots(1, 3, figsize=(15, 10))\n",
    "\n",
    "ax = sns.histplot(data=dum, x=\"Odor: Almond\", color=\"r\", ax=axs[0])\n",
    "ax.text(0.0, 7774, '7724')\n",
    "ax.text(0.94, 450, '400')\n",
    "ax.set(ylabel='Frequency')\n",
    "ax = sns.histplot(data=dum, x=\"Odor: Creosote\", color=\"g\", ax=axs[1])\n",
    "ax.text(0.0, 7982, '7932')\n",
    "ax.text(0.94, 242, '192')\n",
    "ax.set(ylabel='')\n",
    "ax = sns.histplot(data=dum, x=\"Odor: Foul\", color=\"b\", ax=axs[2])\n",
    "ax.text(0.0, 6014, '5964')\n",
    "ax.text(0.93, 2210, '2160')\n",
    "ax.set(ylabel='')"
   ]
  },
  {
   "cell_type": "code",
   "execution_count": 24,
   "metadata": {},
   "outputs": [
    {
     "data": {
      "text/plain": [
       "[Text(0, 0.5, '')]"
      ]
     },
     "execution_count": 24,
     "metadata": {},
     "output_type": "execute_result"
    },
    {
     "data": {
      "image/png": "[encoded data removed]",
      "text/plain": [
       "<Figure size 1080x720 with 3 Axes>"
      ]
     },
     "metadata": {
      "needs_background": "light"
     },
     "output_type": "display_data"
    }
   ],
   "source": [
    "fig, axs = plt.subplots(1, 3, figsize=(15, 10))\n",
    "\n",
    "ax = sns.histplot(data=dum, x=\"Odor: Anise\", color=\"c\", ax=axs[0])\n",
    "ax.text(0.0, 7774, '7724')\n",
    "ax.text(0.94, 450, '400')\n",
    "ax.set(ylabel='Frequency')\n",
    "ax = sns.histplot(data=dum, x=\"Odor: Musty\", color=\"m\", ax=axs[1])\n",
    "ax.text(0.0, 8138, '8088')\n",
    "ax.text(0.94, 86, '36')\n",
    "ax.set(ylabel='')\n",
    "ax = sns.histplot(data=dum, x=\"Odor: None\", color=\"y\", ax=axs[2])\n",
    "ax.text(0.0, 4646, '4596')\n",
    "ax.text(0.93, 3578, '3528')\n",
    "ax.set(ylabel='')"
   ]
  },
  {
   "cell_type": "code",
   "execution_count": 25,
   "metadata": {},
   "outputs": [
    {
     "data": {
      "text/plain": [
       "[Text(0, 0.5, '')]"
      ]
     },
     "execution_count": 25,
     "metadata": {},
     "output_type": "execute_result"
    },
    {
     "data": {
      "image/png": "[encoded data removed]",
      "text/plain": [
       "<Figure size 1080x720 with 3 Axes>"
      ]
     },
     "metadata": {
      "needs_background": "light"
     },
     "output_type": "display_data"
    }
   ],
   "source": [
    "fig, axs = plt.subplots(1, 3, figsize=(15, 10))\n",
    "\n",
    "ax = sns.histplot(data=dum, x=\"Odor: Pungent\", color=\"k\", ax=axs[0])\n",
    "ax.text(0.0, 7918, '7868')\n",
    "ax.text(0.94, 306, '256')\n",
    "ax.set(ylabel='Frequency')\n",
    "ax = sns.histplot(data=dum, x=\"Odor: Spicy\", color=\"grey\", ax=axs[1])\n",
    "ax.text(0.0, 7598, '7548')\n",
    "ax.text(0.94, 626, '576')\n",
    "ax.set(ylabel='')\n",
    "ax = sns.histplot(data=dum, x=\"Odor: Fishy\", color=\"indigo\", ax=axs[2])\n",
    "ax.text(0.0, 7598, '7548')\n",
    "ax.text(0.94, 626, '576')\n",
    "ax.set(ylabel='')"
   ]
  },
  {
   "cell_type": "markdown",
   "metadata": {},
   "source": [
    "For a non-visual display, we can use the value_counts function to see the breakdown."
   ]
  },
  {
   "cell_type": "code",
   "execution_count": 28,
   "metadata": {},
   "outputs": [
    {
     "data": {
      "text/plain": [
       "0    7724\n",
       "1     400\n",
       "Name: Odor: Almond, dtype: int64"
      ]
     },
     "execution_count": 28,
     "metadata": {},
     "output_type": "execute_result"
    }
   ],
   "source": [
    "dum['Odor: Almond'].value_counts()"
   ]
  },
  {
   "cell_type": "code",
   "execution_count": 29,
   "metadata": {},
   "outputs": [
    {
     "data": {
      "text/plain": [
       "0    7932\n",
       "1     192\n",
       "Name: Odor: Creosote, dtype: int64"
      ]
     },
     "execution_count": 29,
     "metadata": {},
     "output_type": "execute_result"
    }
   ],
   "source": [
    "dum['Odor: Creosote'].value_counts()"
   ]
  },
  {
   "cell_type": "code",
   "execution_count": 30,
   "metadata": {},
   "outputs": [
    {
     "data": {
      "text/plain": [
       "0    5964\n",
       "1    2160\n",
       "Name: Odor: Foul, dtype: int64"
      ]
     },
     "execution_count": 30,
     "metadata": {},
     "output_type": "execute_result"
    }
   ],
   "source": [
    "dum['Odor: Foul'].value_counts()"
   ]
  },
  {
   "cell_type": "code",
   "execution_count": 31,
   "metadata": {},
   "outputs": [
    {
     "data": {
      "text/plain": [
       "0    7724\n",
       "1     400\n",
       "Name: Odor: Anise, dtype: int64"
      ]
     },
     "execution_count": 31,
     "metadata": {},
     "output_type": "execute_result"
    }
   ],
   "source": [
    "dum['Odor: Anise'].value_counts()"
   ]
  },
  {
   "cell_type": "code",
   "execution_count": 32,
   "metadata": {},
   "outputs": [
    {
     "data": {
      "text/plain": [
       "0    8088\n",
       "1      36\n",
       "Name: Odor: Musty, dtype: int64"
      ]
     },
     "execution_count": 32,
     "metadata": {},
     "output_type": "execute_result"
    }
   ],
   "source": [
    "dum['Odor: Musty'].value_counts()"
   ]
  },
  {
   "cell_type": "code",
   "execution_count": 33,
   "metadata": {},
   "outputs": [
    {
     "data": {
      "text/plain": [
       "0    4596\n",
       "1    3528\n",
       "Name: Odor: None, dtype: int64"
      ]
     },
     "execution_count": 33,
     "metadata": {},
     "output_type": "execute_result"
    }
   ],
   "source": [
    "dum['Odor: None'].value_counts()"
   ]
  },
  {
   "cell_type": "code",
   "execution_count": 34,
   "metadata": {},
   "outputs": [
    {
     "data": {
      "text/plain": [
       "0    7868\n",
       "1     256\n",
       "Name: Odor: Pungent, dtype: int64"
      ]
     },
     "execution_count": 34,
     "metadata": {},
     "output_type": "execute_result"
    }
   ],
   "source": [
    "dum['Odor: Pungent'].value_counts()"
   ]
  },
  {
   "cell_type": "code",
   "execution_count": 35,
   "metadata": {},
   "outputs": [
    {
     "data": {
      "text/plain": [
       "0    7548\n",
       "1     576\n",
       "Name: Odor: Spicy, dtype: int64"
      ]
     },
     "execution_count": 35,
     "metadata": {},
     "output_type": "execute_result"
    }
   ],
   "source": [
    "dum['Odor: Spicy'].value_counts()"
   ]
  },
  {
   "cell_type": "code",
   "execution_count": 36,
   "metadata": {},
   "outputs": [
    {
     "data": {
      "text/plain": [
       "0    7548\n",
       "1     576\n",
       "Name: Odor: Fishy, dtype: int64"
      ]
     },
     "execution_count": 36,
     "metadata": {},
     "output_type": "execute_result"
    }
   ],
   "source": [
    "dum['Odor: Fishy'].value_counts()"
   ]
  },
  {
   "cell_type": "markdown",
   "metadata": {},
   "source": [
    "Now we can do the same thing with the remaining 3 variable sections: Cap Color, Gill Color, and Habitat.\n",
    "\n",
    "Starting with Cap Color:"
   ]
  },
  {
   "cell_type": "code",
   "execution_count": 47,
   "metadata": {},
   "outputs": [
    {
     "data": {
      "text/plain": [
       "[Text(0, 0.5, '')]"
      ]
     },
     "execution_count": 47,
     "metadata": {},
     "output_type": "execute_result"
    },
    {
     "data": {
      "image/png": "[encoded data removed]",
      "text/plain": [
       "<Figure size 1080x720 with 2 Axes>"
      ]
     },
     "metadata": {
      "needs_background": "light"
     },
     "output_type": "display_data"
    }
   ],
   "source": [
    "fig, axs = plt.subplots(1, 2, figsize=(15, 10))\n",
    "\n",
    "ax = sns.histplot(data=dum, x='Cap Color: Buff', color=\"orange\", ax=axs[0])\n",
    "ax.text(0.0, 8006, '7956')\n",
    "ax.text(0.94, 218, '168')\n",
    "ax.set(ylabel='Frequency')\n",
    "ax = sns.histplot(data=dum, x='Cap Color: Cinnamon', color=\"peru\", ax=axs[1])\n",
    "ax.text(0.0, 8130, '8080')\n",
    "ax.text(0.94, 94, '44')\n",
    "ax.set(ylabel='')"
   ]
  },
  {
   "cell_type": "code",
   "execution_count": 39,
   "metadata": {},
   "outputs": [
    {
     "data": {
      "text/plain": [
       "0    7956\n",
       "1     168\n",
       "Name: Cap Color: Buff, dtype: int64"
      ]
     },
     "execution_count": 39,
     "metadata": {},
     "output_type": "execute_result"
    }
   ],
   "source": [
    "dum['Cap Color: Buff'].value_counts()"
   ]
  },
  {
   "cell_type": "code",
   "execution_count": 40,
   "metadata": {},
   "outputs": [
    {
     "data": {
      "text/plain": [
       "0    8080\n",
       "1      44\n",
       "Name: Cap Color: Cinnamon, dtype: int64"
      ]
     },
     "execution_count": 40,
     "metadata": {},
     "output_type": "execute_result"
    }
   ],
   "source": [
    "dum['Cap Color: Cinnamon'].value_counts()"
   ]
  },
  {
   "cell_type": "code",
   "execution_count": 46,
   "metadata": {},
   "outputs": [
    {
     "data": {
      "text/plain": [
       "[Text(0, 0.5, '')]"
      ]
     },
     "execution_count": 46,
     "metadata": {},
     "output_type": "execute_result"
    },
    {
     "data": {
      "image/png": "[encoded data removed]",
      "text/plain": [
       "<Figure size 1080x720 with 2 Axes>"
      ]
     },
     "metadata": {
      "needs_background": "light"
     },
     "output_type": "display_data"
    }
   ],
   "source": [
    "fig, axs = plt.subplots(1, 2, figsize=(15, 10))\n",
    "\n",
    "ax = sns.histplot(data=dum, x='Cap Color: Red', color=\"red\", ax=axs[0])\n",
    "ax.text(0.0, 6674, '6624')\n",
    "ax.text(0.94, 1550, '1500')\n",
    "ax.set(ylabel='Frequency')\n",
    "ax = sns.histplot(data=dum, x='Cap Color: Gray', color=\"gray\", ax=axs[1])\n",
    "ax.text(0.0, 6334, '6284')\n",
    "ax.text(0.94, 1890, '1840')\n",
    "ax.set(ylabel='')"
   ]
  },
  {
   "cell_type": "code",
   "execution_count": 42,
   "metadata": {},
   "outputs": [
    {
     "data": {
      "text/plain": [
       "0    6624\n",
       "1    1500\n",
       "Name: Cap Color: Red, dtype: int64"
      ]
     },
     "execution_count": 42,
     "metadata": {},
     "output_type": "execute_result"
    }
   ],
   "source": [
    "dum['Cap Color: Red'].value_counts()"
   ]
  },
  {
   "cell_type": "code",
   "execution_count": 43,
   "metadata": {},
   "outputs": [
    {
     "data": {
      "text/plain": [
       "0    6284\n",
       "1    1840\n",
       "Name: Cap Color: Gray, dtype: int64"
      ]
     },
     "execution_count": 43,
     "metadata": {},
     "output_type": "execute_result"
    }
   ],
   "source": [
    "dum['Cap Color: Gray'].value_counts()"
   ]
  },
  {
   "cell_type": "code",
   "execution_count": 50,
   "metadata": {},
   "outputs": [
    {
     "data": {
      "text/plain": [
       "[Text(0, 0.5, '')]"
      ]
     },
     "execution_count": 50,
     "metadata": {},
     "output_type": "execute_result"
    },
    {
     "data": {
      "image/png": "[encoded data removed]",
      "text/plain": [
       "<Figure size 1080x720 with 2 Axes>"
      ]
     },
     "metadata": {
      "needs_background": "light"
     },
     "output_type": "display_data"
    }
   ],
   "source": [
    "fig, axs = plt.subplots(1, 2, figsize=(15, 10))\n",
    "\n",
    "ax = sns.histplot(data=dum, x='Cap Color: Brown', color=\"brown\", ax=axs[0])\n",
    "ax.text(0.0, 5890, '5840')\n",
    "ax.text(0.94, 2334, '2284')\n",
    "ax.set(ylabel='Frequency')\n",
    "ax = sns.histplot(data=dum, x='Cap Color: Pink', color=\"pink\", ax=axs[1])\n",
    "ax.text(0.0, 8030, '7980')\n",
    "ax.text(0.94, 194, '144')\n",
    "ax.set(ylabel='')"
   ]
  },
  {
   "cell_type": "code",
   "execution_count": 48,
   "metadata": {},
   "outputs": [
    {
     "data": {
      "text/plain": [
       "0    5840\n",
       "1    2284\n",
       "Name: Cap Color: Brown, dtype: int64"
      ]
     },
     "execution_count": 48,
     "metadata": {},
     "output_type": "execute_result"
    }
   ],
   "source": [
    "dum['Cap Color: Brown'].value_counts()"
   ]
  },
  {
   "cell_type": "code",
   "execution_count": 49,
   "metadata": {},
   "outputs": [
    {
     "data": {
      "text/plain": [
       "0    7980\n",
       "1     144\n",
       "Name: Cap Color: Pink, dtype: int64"
      ]
     },
     "execution_count": 49,
     "metadata": {},
     "output_type": "execute_result"
    }
   ],
   "source": [
    "dum['Cap Color: Pink'].value_counts()"
   ]
  },
  {
   "cell_type": "code",
   "execution_count": 53,
   "metadata": {},
   "outputs": [
    {
     "data": {
      "text/plain": [
       "[Text(0, 0.5, '')]"
      ]
     },
     "execution_count": 53,
     "metadata": {},
     "output_type": "execute_result"
    },
    {
     "data": {
      "image/png": "[encoded data removed]",
      "text/plain": [
       "<Figure size 1080x720 with 2 Axes>"
      ]
     },
     "metadata": {
      "needs_background": "light"
     },
     "output_type": "display_data"
    }
   ],
   "source": [
    "fig, axs = plt.subplots(1, 2, figsize=(15, 10))\n",
    "\n",
    "ax = sns.histplot(data=dum, x='Cap Color: Green', color=\"green\", ax=axs[0])\n",
    "ax.text(0.0, 8158, '8108')\n",
    "ax.text(0.94, 66, '16')\n",
    "ax.set(ylabel='Frequency')\n",
    "ax = sns.histplot(data=dum, x='Cap Color: Purple', color=\"purple\", ax=axs[1])\n",
    "ax.text(0.0, 8158, '8108')\n",
    "ax.text(0.94, 66, '16')\n",
    "ax.set(ylabel='')"
   ]
  },
  {
   "cell_type": "code",
   "execution_count": 51,
   "metadata": {},
   "outputs": [
    {
     "data": {
      "text/plain": [
       "0    8108\n",
       "1      16\n",
       "Name: Cap Color: Green, dtype: int64"
      ]
     },
     "execution_count": 51,
     "metadata": {},
     "output_type": "execute_result"
    }
   ],
   "source": [
    "dum['Cap Color: Green'].value_counts()"
   ]
  },
  {
   "cell_type": "code",
   "execution_count": 52,
   "metadata": {},
   "outputs": [
    {
     "data": {
      "text/plain": [
       "0    8108\n",
       "1      16\n",
       "Name: Cap Color: Purple, dtype: int64"
      ]
     },
     "execution_count": 52,
     "metadata": {},
     "output_type": "execute_result"
    }
   ],
   "source": [
    "dum['Cap Color: Purple'].value_counts()"
   ]
  },
  {
   "cell_type": "code",
   "execution_count": 58,
   "metadata": {},
   "outputs": [
    {
     "data": {
      "text/plain": [
       "[Text(0, 0.5, '')]"
      ]
     },
     "execution_count": 58,
     "metadata": {},
     "output_type": "execute_result"
    },
    {
     "data": {
      "image/png": "[encoded data removed]",
      "text/plain": [
       "<Figure size 1080x720 with 2 Axes>"
      ]
     },
     "metadata": {
      "needs_background": "light"
     },
     "output_type": "display_data"
    }
   ],
   "source": [
    "fig, axs = plt.subplots(1, 2, figsize=(15, 10))\n",
    "\n",
    "ax = sns.histplot(data=dum, x='Cap Color: White', color=\"white\", ax=axs[0])\n",
    "ax.text(0.0, 7134, '7084')\n",
    "ax.text(0.94, 1090, '1040')\n",
    "ax.set(ylabel='Frequency')\n",
    "ax = sns.histplot(data=dum, x='Cap Color: Yellow', color=\"yellow\", ax=axs[1])\n",
    "ax.text(0.0, 7102, '7052')\n",
    "ax.text(0.94, 1122, '1072')\n",
    "ax.set(ylabel='')"
   ]
  },
  {
   "cell_type": "code",
   "execution_count": 56,
   "metadata": {},
   "outputs": [
    {
     "data": {
      "text/plain": [
       "0    7084\n",
       "1    1040\n",
       "Name: Cap Color: White, dtype: int64"
      ]
     },
     "execution_count": 56,
     "metadata": {},
     "output_type": "execute_result"
    }
   ],
   "source": [
    "dum['Cap Color: White'].value_counts()"
   ]
  },
  {
   "cell_type": "code",
   "execution_count": 57,
   "metadata": {},
   "outputs": [
    {
     "data": {
      "text/plain": [
       "0    7052\n",
       "1    1072\n",
       "Name: Cap Color: Yellow, dtype: int64"
      ]
     },
     "execution_count": 57,
     "metadata": {},
     "output_type": "execute_result"
    }
   ],
   "source": [
    "dum['Cap Color: Yellow'].value_counts()"
   ]
  },
  {
   "cell_type": "markdown",
   "metadata": {},
   "source": [
    "Now we move on to Gill Color:"
   ]
  },
  {
   "cell_type": "code",
   "execution_count": 62,
   "metadata": {},
   "outputs": [
    {
     "data": {
      "text/plain": [
       "[Text(0, 0.5, '')]"
      ]
     },
     "execution_count": 62,
     "metadata": {},
     "output_type": "execute_result"
    },
    {
     "data": {
      "image/png": "[encoded data removed]",
      "text/plain": [
       "<Figure size 1080x720 with 3 Axes>"
      ]
     },
     "metadata": {
      "needs_background": "light"
     },
     "output_type": "display_data"
    }
   ],
   "source": [
    "fig, axs = plt.subplots(1, 3, figsize=(15, 10))\n",
    "\n",
    "ax = sns.histplot(data=dum, x='Gill Color: Buff', color=\"orange\", ax=axs[0])\n",
    "ax.text(0.0, 6446, '6396')\n",
    "ax.text(0.94, 1778, '1728')\n",
    "ax.set(ylabel='Frequency')\n",
    "ax = sns.histplot(data=dum, x='Gill Color: Red', color=\"red\", ax=axs[1])\n",
    "ax.text(0.0, 8078, '8028')\n",
    "ax.text(0.94, 146, '96')\n",
    "ax.set(ylabel='')\n",
    "ax = sns.histplot(data=dum, x='Gill Color: Gray', color=\"gray\", ax=axs[2])\n",
    "ax.text(0.0, 7422, '7372')\n",
    "ax.text(0.93, 802, '752')\n",
    "ax.set(ylabel='')"
   ]
  },
  {
   "cell_type": "code",
   "execution_count": 59,
   "metadata": {},
   "outputs": [
    {
     "data": {
      "text/plain": [
       "0    6396\n",
       "1    1728\n",
       "Name: Gill Color: Buff, dtype: int64"
      ]
     },
     "execution_count": 59,
     "metadata": {},
     "output_type": "execute_result"
    }
   ],
   "source": [
    "dum['Gill Color: Buff'].value_counts()"
   ]
  },
  {
   "cell_type": "code",
   "execution_count": 60,
   "metadata": {},
   "outputs": [
    {
     "data": {
      "text/plain": [
       "0    8028\n",
       "1      96\n",
       "Name: Gill Color: Red, dtype: int64"
      ]
     },
     "execution_count": 60,
     "metadata": {},
     "output_type": "execute_result"
    }
   ],
   "source": [
    "dum['Gill Color: Red'].value_counts()"
   ]
  },
  {
   "cell_type": "code",
   "execution_count": 61,
   "metadata": {},
   "outputs": [
    {
     "data": {
      "text/plain": [
       "0    7372\n",
       "1     752\n",
       "Name: Gill Color: Gray, dtype: int64"
      ]
     },
     "execution_count": 61,
     "metadata": {},
     "output_type": "execute_result"
    }
   ],
   "source": [
    "dum['Gill Color: Gray'].value_counts()"
   ]
  },
  {
   "cell_type": "code",
   "execution_count": 67,
   "metadata": {},
   "outputs": [
    {
     "data": {
      "text/plain": [
       "[Text(0, 0.5, '')]"
      ]
     },
     "execution_count": 67,
     "metadata": {},
     "output_type": "execute_result"
    },
    {
     "data": {
      "image/png": "[encoded data removed]",
      "text/plain": [
       "<Figure size 1080x720 with 3 Axes>"
      ]
     },
     "metadata": {
      "needs_background": "light"
     },
     "output_type": "display_data"
    }
   ],
   "source": [
    "fig, axs = plt.subplots(1, 3, figsize=(15, 10))\n",
    "\n",
    "ax = sns.histplot(data=dum, x='Gill Color: Chocolate', color=\"chocolate\", ax=axs[0])\n",
    "ax.text(0.0, 7442, '7392')\n",
    "ax.text(0.94, 782, '732')\n",
    "ax.set(ylabel='Frequency')\n",
    "ax = sns.histplot(data=dum, x='Gill Color: Black', color=\"black\", ax=axs[1])\n",
    "ax.text(0.0, 7766, '7716')\n",
    "ax.text(0.94, 458, '408')\n",
    "ax.set(ylabel='')\n",
    "ax = sns.histplot(data=dum, x='Gill Color: Brown', color=\"brown\", ax=axs[2])\n",
    "ax.text(0.0, 7126, '7076')\n",
    "ax.text(0.93, 1098, '1048')\n",
    "ax.set(ylabel='')"
   ]
  },
  {
   "cell_type": "code",
   "execution_count": 63,
   "metadata": {},
   "outputs": [
    {
     "data": {
      "text/plain": [
       "0    7392\n",
       "1     732\n",
       "Name: Gill Color: Chocolate, dtype: int64"
      ]
     },
     "execution_count": 63,
     "metadata": {},
     "output_type": "execute_result"
    }
   ],
   "source": [
    "dum['Gill Color: Chocolate'].value_counts()"
   ]
  },
  {
   "cell_type": "code",
   "execution_count": 64,
   "metadata": {},
   "outputs": [
    {
     "data": {
      "text/plain": [
       "0    7716\n",
       "1     408\n",
       "Name: Gill Color: Black, dtype: int64"
      ]
     },
     "execution_count": 64,
     "metadata": {},
     "output_type": "execute_result"
    }
   ],
   "source": [
    "dum['Gill Color: Black'].value_counts()"
   ]
  },
  {
   "cell_type": "code",
   "execution_count": 65,
   "metadata": {},
   "outputs": [
    {
     "data": {
      "text/plain": [
       "0    7076\n",
       "1    1048\n",
       "Name: Gill Color: Brown, dtype: int64"
      ]
     },
     "execution_count": 65,
     "metadata": {},
     "output_type": "execute_result"
    }
   ],
   "source": [
    "dum['Gill Color: Brown'].value_counts()"
   ]
  },
  {
   "cell_type": "code",
   "execution_count": 74,
   "metadata": {},
   "outputs": [
    {
     "data": {
      "text/plain": [
       "[Text(0, 0.5, '')]"
      ]
     },
     "execution_count": 74,
     "metadata": {},
     "output_type": "execute_result"
    },
    {
     "data": {
      "image/png": "[encoded data removed]",
      "text/plain": [
       "<Figure size 1080x720 with 3 Axes>"
      ]
     },
     "metadata": {
      "needs_background": "light"
     },
     "output_type": "display_data"
    }
   ],
   "source": [
    "fig, axs = plt.subplots(1, 3, figsize=(15, 10))\n",
    "\n",
    "ax = sns.histplot(data=dum, x='Gill Color: Orange', color=\"orange\", ax=axs[0])\n",
    "ax.text(0.0, 8110, '8060')\n",
    "ax.text(0.94, 114, '64')\n",
    "ax.set(ylabel='Frequency')\n",
    "ax = sns.histplot(data=dum, x='Gill Color: Pink', color=\"pink\", ax=axs[1])\n",
    "ax.text(0.0, 6682, '6632')\n",
    "ax.text(0.94, 1542, '1492')\n",
    "ax.set(ylabel='')\n",
    "ax = sns.histplot(data=dum, x='Gill Color: Green', color=\"green\", ax=axs[2])\n",
    "ax.text(0.0, 8150, '8100')\n",
    "ax.text(0.93, 74, '24')\n",
    "ax.set(ylabel='')"
   ]
  },
  {
   "cell_type": "code",
   "execution_count": 68,
   "metadata": {},
   "outputs": [
    {
     "data": {
      "text/plain": [
       "0    8060\n",
       "1      64\n",
       "Name: Gill Color: Orange, dtype: int64"
      ]
     },
     "execution_count": 68,
     "metadata": {},
     "output_type": "execute_result"
    }
   ],
   "source": [
    "dum['Gill Color: Orange'].value_counts()"
   ]
  },
  {
   "cell_type": "code",
   "execution_count": 69,
   "metadata": {},
   "outputs": [
    {
     "data": {
      "text/plain": [
       "0    6632\n",
       "1    1492\n",
       "Name: Gill Color: Pink, dtype: int64"
      ]
     },
     "execution_count": 69,
     "metadata": {},
     "output_type": "execute_result"
    }
   ],
   "source": [
    "dum['Gill Color: Pink'].value_counts()"
   ]
  },
  {
   "cell_type": "code",
   "execution_count": 70,
   "metadata": {},
   "outputs": [
    {
     "data": {
      "text/plain": [
       "0    8100\n",
       "1      24\n",
       "Name: Gill Color: Green, dtype: int64"
      ]
     },
     "execution_count": 70,
     "metadata": {},
     "output_type": "execute_result"
    }
   ],
   "source": [
    "dum['Gill Color: Green'].value_counts()"
   ]
  },
  {
   "cell_type": "code",
   "execution_count": 75,
   "metadata": {},
   "outputs": [
    {
     "data": {
      "text/plain": [
       "[Text(0, 0.5, '')]"
      ]
     },
     "execution_count": 75,
     "metadata": {},
     "output_type": "execute_result"
    },
    {
     "data": {
      "image/png": "[encoded data removed]",
      "text/plain": [
       "<Figure size 1080x720 with 3 Axes>"
      ]
     },
     "metadata": {
      "needs_background": "light"
     },
     "output_type": "display_data"
    }
   ],
   "source": [
    "fig, axs = plt.subplots(1, 3, figsize=(15, 10))\n",
    "\n",
    "ax = sns.histplot(data=dum, x='Gill Color: Purple', color=\"purple\", ax=axs[0])\n",
    "ax.text(0.0, 7682, '7632')\n",
    "ax.text(0.94, 542, '492')\n",
    "ax.set(ylabel='Frequency')\n",
    "ax = sns.histplot(data=dum, x='Gill Color: White', color=\"white\", ax=axs[1])\n",
    "ax.text(0.0, 6972, '6922')\n",
    "ax.text(0.94, 1252, '1202')\n",
    "ax.set(ylabel='')\n",
    "ax = sns.histplot(data=dum, x='Gill Color: Yellow', color=\"yellow\", ax=axs[2])\n",
    "ax.text(0.0, 8088, '8038')\n",
    "ax.text(0.93, 136, '86')\n",
    "ax.set(ylabel='')"
   ]
  },
  {
   "cell_type": "code",
   "execution_count": 71,
   "metadata": {},
   "outputs": [
    {
     "data": {
      "text/plain": [
       "0    7632\n",
       "1     492\n",
       "Name: Gill Color: Purple, dtype: int64"
      ]
     },
     "execution_count": 71,
     "metadata": {},
     "output_type": "execute_result"
    }
   ],
   "source": [
    "dum['Gill Color: Purple'].value_counts()"
   ]
  },
  {
   "cell_type": "code",
   "execution_count": 72,
   "metadata": {},
   "outputs": [
    {
     "data": {
      "text/plain": [
       "0    6922\n",
       "1    1202\n",
       "Name: Gill Color: White, dtype: int64"
      ]
     },
     "execution_count": 72,
     "metadata": {},
     "output_type": "execute_result"
    }
   ],
   "source": [
    "dum['Gill Color: White'].value_counts()"
   ]
  },
  {
   "cell_type": "code",
   "execution_count": 73,
   "metadata": {},
   "outputs": [
    {
     "data": {
      "text/plain": [
       "0    8038\n",
       "1      86\n",
       "Name: Gill Color: Yellow, dtype: int64"
      ]
     },
     "execution_count": 73,
     "metadata": {},
     "output_type": "execute_result"
    }
   ],
   "source": [
    "dum['Gill Color: Yellow'].value_counts()"
   ]
  },
  {
   "cell_type": "markdown",
   "metadata": {},
   "source": [
    "Lastly, we look at the Habitat:"
   ]
  },
  {
   "cell_type": "code",
   "execution_count": 79,
   "metadata": {},
   "outputs": [
    {
     "data": {
      "text/plain": [
       "[Text(0, 0.5, '')]"
      ]
     },
     "execution_count": 79,
     "metadata": {},
     "output_type": "execute_result"
    },
    {
     "data": {
      "image/png": "[encoded data removed]",
      "text/plain": [
       "<Figure size 1080x720 with 3 Axes>"
      ]
     },
     "metadata": {
      "needs_background": "light"
     },
     "output_type": "display_data"
    }
   ],
   "source": [
    "fig, axs = plt.subplots(1, 3, figsize=(15, 10))\n",
    "\n",
    "ax = sns.histplot(data=dum, x='Habitat: Woods', color=\"brown\", ax=axs[0])\n",
    "ax.text(0.0, 5026, '4976')\n",
    "ax.text(0.94, 3198, '3148')\n",
    "ax.set(ylabel='Frequency')\n",
    "ax = sns.histplot(data=dum, x='Habitat: Grasses', color=\"green\", ax=axs[1])\n",
    "ax.text(0.0, 6026, '5976')\n",
    "ax.text(0.94, 2198, '2148')\n",
    "ax.set(ylabel='')\n",
    "ax = sns.histplot(data=dum, x='Habitat: Leaves', color=\"yellow\", ax=axs[2])\n",
    "ax.text(0.0, 7342, '7292')\n",
    "ax.text(0.93, 882, '832')\n",
    "ax.set(ylabel='')"
   ]
  },
  {
   "cell_type": "code",
   "execution_count": 76,
   "metadata": {},
   "outputs": [
    {
     "data": {
      "text/plain": [
       "0    4976\n",
       "1    3148\n",
       "Name: Habitat: Woods, dtype: int64"
      ]
     },
     "execution_count": 76,
     "metadata": {},
     "output_type": "execute_result"
    }
   ],
   "source": [
    "dum['Habitat: Woods'].value_counts()"
   ]
  },
  {
   "cell_type": "code",
   "execution_count": 77,
   "metadata": {},
   "outputs": [
    {
     "data": {
      "text/plain": [
       "0    5976\n",
       "1    2148\n",
       "Name: Habitat: Grasses, dtype: int64"
      ]
     },
     "execution_count": 77,
     "metadata": {},
     "output_type": "execute_result"
    }
   ],
   "source": [
    "dum['Habitat: Grasses'].value_counts()"
   ]
  },
  {
   "cell_type": "code",
   "execution_count": 78,
   "metadata": {},
   "outputs": [
    {
     "data": {
      "text/plain": [
       "0    7292\n",
       "1     832\n",
       "Name: Habitat: Leaves, dtype: int64"
      ]
     },
     "execution_count": 78,
     "metadata": {},
     "output_type": "execute_result"
    }
   ],
   "source": [
    "dum['Habitat: Leaves'].value_counts()"
   ]
  },
  {
   "cell_type": "code",
   "execution_count": 84,
   "metadata": {},
   "outputs": [
    {
     "data": {
      "text/plain": [
       "[Text(0, 0.5, '')]"
      ]
     },
     "execution_count": 84,
     "metadata": {},
     "output_type": "execute_result"
    },
    {
     "data": {
      "image/png": "[encoded data removed]",
      "text/plain": [
       "<Figure size 1080x720 with 2 Axes>"
      ]
     },
     "metadata": {
      "needs_background": "light"
     },
     "output_type": "display_data"
    }
   ],
   "source": [
    "fig, axs = plt.subplots(1, 2, figsize=(15, 10))\n",
    "\n",
    "ax = sns.histplot(data=dum, x='Habitat: Meadows', color=\"pink\", ax=axs[0])\n",
    "ax.text(0.0, 7882, '7832')\n",
    "ax.text(0.94, 342, '292')\n",
    "ax.set(ylabel='Frequency')\n",
    "ax = sns.histplot(data=dum, x='Habitat: Paths', color=\"gray\", ax=axs[1])\n",
    "ax.text(0.0, 7030, '6980')\n",
    "ax.text(0.94, 1194, '1144')\n",
    "ax.set(ylabel='')"
   ]
  },
  {
   "cell_type": "code",
   "execution_count": 80,
   "metadata": {},
   "outputs": [
    {
     "data": {
      "text/plain": [
       "0    7832\n",
       "1     292\n",
       "Name: Habitat: Meadows, dtype: int64"
      ]
     },
     "execution_count": 80,
     "metadata": {},
     "output_type": "execute_result"
    }
   ],
   "source": [
    "dum['Habitat: Meadows'].value_counts()"
   ]
  },
  {
   "cell_type": "code",
   "execution_count": 81,
   "metadata": {},
   "outputs": [
    {
     "data": {
      "text/plain": [
       "0    6980\n",
       "1    1144\n",
       "Name: Habitat: Paths, dtype: int64"
      ]
     },
     "execution_count": 81,
     "metadata": {},
     "output_type": "execute_result"
    }
   ],
   "source": [
    "dum['Habitat: Paths'].value_counts()"
   ]
  },
  {
   "cell_type": "code",
   "execution_count": 85,
   "metadata": {},
   "outputs": [
    {
     "data": {
      "text/plain": [
       "[Text(0, 0.5, '')]"
      ]
     },
     "execution_count": 85,
     "metadata": {},
     "output_type": "execute_result"
    },
    {
     "data": {
      "image/png": "[encoded data removed]",
      "text/plain": [
       "<Figure size 1080x720 with 2 Axes>"
      ]
     },
     "metadata": {
      "needs_background": "light"
     },
     "output_type": "display_data"
    }
   ],
   "source": [
    "fig, axs = plt.subplots(1, 2, figsize=(15, 10))\n",
    "\n",
    "ax = sns.histplot(data=dum, x='Habitat: Urban', color=\"black\", ax=axs[0])\n",
    "ax.text(0.0, 7806, '7756')\n",
    "ax.text(0.94, 418, '368')\n",
    "ax.set(ylabel='Frequency')\n",
    "ax = sns.histplot(data=dum, x='Habitat: Waste', color=\"red\", ax=axs[1])\n",
    "ax.text(0.0, 7982, '7932')\n",
    "ax.text(0.94, 242, '192')\n",
    "ax.set(ylabel='')"
   ]
  },
  {
   "cell_type": "code",
   "execution_count": 82,
   "metadata": {},
   "outputs": [
    {
     "data": {
      "text/plain": [
       "0    7756\n",
       "1     368\n",
       "Name: Habitat: Urban, dtype: int64"
      ]
     },
     "execution_count": 82,
     "metadata": {},
     "output_type": "execute_result"
    }
   ],
   "source": [
    "dum['Habitat: Urban'].value_counts()"
   ]
  },
  {
   "cell_type": "code",
   "execution_count": 83,
   "metadata": {},
   "outputs": [
    {
     "data": {
      "text/plain": [
       "0    7932\n",
       "1     192\n",
       "Name: Habitat: Waste, dtype: int64"
      ]
     },
     "execution_count": 83,
     "metadata": {},
     "output_type": "execute_result"
    }
   ],
   "source": [
    "dum['Habitat: Waste'].value_counts()"
   ]
  },
  {
   "cell_type": "markdown",
   "metadata": {},
   "source": [
    "### Conclusions:\n",
    "\n",
    "For every single odor, cap color, gill color, and habitat, there are more edible mushrooms than poison ones.  While there is one that is relatively close, almost all of them have the overwhelmingly majority as edible; with some even having as little as 16 poisonious out of 8124.\n",
    "\n",
    "This will help provide the basis for the predictive model we are about to make for Phase II."
   ]
  },
  {
   "cell_type": "markdown",
   "metadata": {},
   "source": [
    "## Phase II: Build Predictive Models\n",
    "\n",
    "I have decided to use a KNN model to try and predict for each of the values if a new one would be edible or poisonious.\n",
    "\n",
    "First thing is to import he sklearn.neighbors from KNeighborsClassifier which will allow us to make our predictive model."
   ]
  },
  {
   "cell_type": "code",
   "execution_count": 136,
   "metadata": {},
   "outputs": [],
   "source": [
    "from sklearn.neighbors import KNeighborsClassifier"
   ]
  },
  {
   "cell_type": "markdown",
   "metadata": {},
   "source": [
    "Since the predictive model is based off arrays, we have to create new arrays that contain all our data for the odors, cap color, gill color, and habitat."
   ]
  },
  {
   "cell_type": "code",
   "execution_count": 140,
   "metadata": {},
   "outputs": [
    {
     "data": {
      "text/plain": [
       "array([[0, 0, 0, ..., 1, 0, 0],\n",
       "       [1, 0, 0, ..., 0, 0, 0],\n",
       "       [0, 0, 0, ..., 0, 0, 0],\n",
       "       ...,\n",
       "       [0, 0, 0, ..., 0, 0, 0],\n",
       "       [0, 0, 0, ..., 0, 0, 1],\n",
       "       [0, 0, 0, ..., 0, 0, 0]], dtype=uint8)"
      ]
     },
     "execution_count": 140,
     "metadata": {},
     "output_type": "execute_result"
    }
   ],
   "source": [
    "col = ['Odor: Almond', 'Odor: Creosote', 'Odor: Foul', 'Odor: Anise', 'Odor: Musty', 'Odor: None',\n",
    "       'Odor: Pungent', 'Odor: Spicy', 'Odor: Fishy']\n",
    "dum_odor = pd.DataFrame(dum,columns=col)\n",
    "odor_arr = dum_odor.to_numpy()\n",
    "odor_arr"
   ]
  },
  {
   "cell_type": "code",
   "execution_count": 141,
   "metadata": {},
   "outputs": [
    {
     "data": {
      "text/plain": [
       "array([[0, 0, 0, ..., 0, 0, 0],\n",
       "       [0, 0, 0, ..., 0, 0, 1],\n",
       "       [0, 0, 0, ..., 0, 1, 0],\n",
       "       ...,\n",
       "       [0, 0, 0, ..., 0, 0, 0],\n",
       "       [0, 0, 0, ..., 0, 0, 0],\n",
       "       [0, 0, 0, ..., 0, 0, 0]], dtype=uint8)"
      ]
     },
     "execution_count": 141,
     "metadata": {},
     "output_type": "execute_result"
    }
   ],
   "source": [
    "col = ['Cap Color: Buff', 'Cap Color: Cinnamon', 'Cap Color: Red', 'Cap Color: Gray',\n",
    "       'Cap Color: Brown','Cap Color: Pink', 'Cap Color: Green', 'Cap Color: Purple','Cap Color: White', 'Cap Color: Yellow']\n",
    "dum_cap = pd.DataFrame(dum,columns=col)\n",
    "cap_arr = dum_cap.to_numpy()\n",
    "cap_arr"
   ]
  },
  {
   "cell_type": "code",
   "execution_count": 142,
   "metadata": {},
   "outputs": [
    {
     "data": {
      "text/plain": [
       "array([[0, 0, 0, ..., 0, 0, 0],\n",
       "       [0, 0, 0, ..., 0, 0, 0],\n",
       "       [0, 0, 0, ..., 0, 0, 0],\n",
       "       ...,\n",
       "       [0, 0, 0, ..., 0, 0, 0],\n",
       "       [1, 0, 0, ..., 0, 0, 0],\n",
       "       [0, 0, 0, ..., 0, 0, 1]], dtype=uint8)"
      ]
     },
     "execution_count": 142,
     "metadata": {},
     "output_type": "execute_result"
    }
   ],
   "source": [
    "col = ['Gill Color: Buff', 'Gill Color: Red', 'Gill Color: Gray', 'Gill Color: Chocolate',\n",
    "       'Gill Color: Black', 'Gill Color: Brown', 'Gill Color: Orange', 'Gill Color: Pink', 'Gill Color: Green',\n",
    "       'Gill Color: Purple', 'Gill Color: White', 'Gill Color: Yellow']\n",
    "dum_gill = pd.DataFrame(dum,columns=col)\n",
    "gill_arr = dum_gill.to_numpy()\n",
    "gill_arr"
   ]
  },
  {
   "cell_type": "code",
   "execution_count": 143,
   "metadata": {},
   "outputs": [
    {
     "data": {
      "text/plain": [
       "array([[0, 0, 0, ..., 0, 1, 0],\n",
       "       [0, 1, 0, ..., 0, 0, 0],\n",
       "       [0, 0, 0, ..., 0, 0, 0],\n",
       "       ...,\n",
       "       [0, 0, 1, ..., 0, 0, 0],\n",
       "       [0, 0, 1, ..., 0, 0, 0],\n",
       "       [0, 0, 1, ..., 0, 0, 0]], dtype=uint8)"
      ]
     },
     "execution_count": 143,
     "metadata": {},
     "output_type": "execute_result"
    }
   ],
   "source": [
    "col = ['Habitat: Woods', 'Habitat: Grasses', 'Habitat: Leaves', 'Habitat: Meadows',\n",
    "       'Habitat: Paths', 'Habitat: Urban', 'Habitat: Waste']\n",
    "dum_habitat = pd.DataFrame(dum,columns=col)\n",
    "habitat_arr = dum_habitat.to_numpy()\n",
    "habitat_arr"
   ]
  },
  {
   "cell_type": "code",
   "execution_count": 144,
   "metadata": {},
   "outputs": [
    {
     "data": {
      "text/plain": [
       "(8124, 7)"
      ]
     },
     "execution_count": 144,
     "metadata": {},
     "output_type": "execute_result"
    }
   ],
   "source": [
    "habitat_arr.shape"
   ]
  },
  {
   "cell_type": "markdown",
   "metadata": {},
   "source": [
    "Once that is done, we can make our target array.  This is done making our target array, called target_arr, and filling it with zeros so that we can replace it with the 'Edible/Poison Ind' values.  For that, we create a new dataframe that just contains the column 'Edible/Poison Ind' and its data.  We convert it to a numpy array, and then we go through every value in it and equate it to the corresponding location in target_arr."
   ]
  },
  {
   "cell_type": "code",
   "execution_count": 145,
   "metadata": {},
   "outputs": [
    {
     "data": {
      "text/plain": [
       "array([1., 0., 0., ..., 0., 1., 0.])"
      ]
     },
     "execution_count": 145,
     "metadata": {},
     "output_type": "execute_result"
    }
   ],
   "source": [
    "target_arr = np.zeros(len(habitat_arr))\n",
    "col = ['Edible/Poison Ind']\n",
    "target = pd.DataFrame(dum,columns=col)\n",
    "target1 = target.to_numpy()\n",
    "for a in range(0,len(habitat_arr)):\n",
    "    target_arr[a] = target1[a][0]\n",
    "target_arr"
   ]
  },
  {
   "cell_type": "markdown",
   "metadata": {},
   "source": [
    "Now we can run our predictive function.  Using x as what our predictive array will be based on and y as what our target array will be based one, we crate the variable knn which will be the KNeighborsClassifier.  We then fit it for our x and y values."
   ]
  },
  {
   "cell_type": "code",
   "execution_count": 156,
   "metadata": {},
   "outputs": [
    {
     "data": {
      "text/plain": [
       "KNeighborsClassifier(n_neighbors=1)"
      ]
     },
     "execution_count": 156,
     "metadata": {},
     "output_type": "execute_result"
    }
   ],
   "source": [
    "x = odor_arr\n",
    "y = target_arr\n",
    "knn = KNeighborsClassifier(n_neighbors=1)\n",
    "knn.fit(x,y)"
   ]
  },
  {
   "cell_type": "code",
   "execution_count": 157,
   "metadata": {},
   "outputs": [
    {
     "data": {
      "text/plain": [
       "KNeighborsClassifier(n_neighbors=1)"
      ]
     },
     "execution_count": 157,
     "metadata": {},
     "output_type": "execute_result"
    }
   ],
   "source": [
    "knn"
   ]
  },
  {
   "cell_type": "markdown",
   "metadata": {},
   "source": [
    "From here, we can run our prediction for the first possible variance just to see if it works.\n",
    "\n",
    "Source: https://stackoverflow.com/questions/66138731/valueerror-expected-2d-array-got-1d-array-instead-array-19-27-896-0-1-0"
   ]
  },
  {
   "cell_type": "code",
   "execution_count": 163,
   "metadata": {},
   "outputs": [
    {
     "data": {
      "text/plain": [
       "array([0.])"
      ]
     },
     "execution_count": 163,
     "metadata": {},
     "output_type": "execute_result"
    }
   ],
   "source": [
    "knn.predict([[1,0,0,0,0,0,0,0,0]])"
   ]
  },
  {
   "cell_type": "markdown",
   "metadata": {},
   "source": [
    "Now that we see that it works, we can run it for all the possible values."
   ]
  },
  {
   "cell_type": "code",
   "execution_count": 166,
   "metadata": {},
   "outputs": [
    {
     "data": {
      "text/plain": [
       "array([0., 1., 1., 0., 1., 0., 1., 1., 1.])"
      ]
     },
     "execution_count": 166,
     "metadata": {},
     "output_type": "execute_result"
    }
   ],
   "source": [
    "x_new = [[1,0,0,0,0,0,0,0,0],[0,1,0,0,0,0,0,0,0],[0,0,1,0,0,0,0,0,0],[0,0,0,1,0,0,0,0,0],[0,0,0,0,1,0,0,0,0],[0,0,0,0,0,1,0,0,0],[0,0,0,0,0,0,1,0,0],[0,0,0,0,0,0,0,1,0],[0,0,0,0,0,0,0,0,1]]\n",
    "knn.predict(x_new)"
   ]
  },
  {
   "cell_type": "markdown",
   "metadata": {},
   "source": [
    "Now we reset our x value and repeat with the other categories."
   ]
  },
  {
   "cell_type": "code",
   "execution_count": 167,
   "metadata": {},
   "outputs": [
    {
     "data": {
      "text/plain": [
       "KNeighborsClassifier(n_neighbors=1)"
      ]
     },
     "execution_count": 167,
     "metadata": {},
     "output_type": "execute_result"
    }
   ],
   "source": [
    "x = cap_arr\n",
    "y = target_arr\n",
    "knn = KNeighborsClassifier(n_neighbors=1)\n",
    "knn.fit(x,y)"
   ]
  },
  {
   "cell_type": "code",
   "execution_count": 170,
   "metadata": {},
   "outputs": [
    {
     "data": {
      "text/plain": [
       "array([0., 0., 0., 0., 0., 1., 0., 0., 0., 0.])"
      ]
     },
     "execution_count": 170,
     "metadata": {},
     "output_type": "execute_result"
    }
   ],
   "source": [
    "x_new = [[1,0,0,0,0,0,0,0,0,0],[0,1,0,0,0,0,0,0,0,0],[0,0,1,0,0,0,0,0,0,0],[0,0,0,1,0,0,0,0,0,0],[0,0,0,0,1,0,0,0,0,0],[0,0,0,0,0,1,0,0,0,0],[0,0,0,0,0,0,1,0,0,0],[0,0,0,0,0,0,0,1,0,0],[0,0,0,0,0,0,0,0,1,0],[0,0,0,0,0,0,0,0,0,1]]\n",
    "knn.predict(x_new)"
   ]
  },
  {
   "cell_type": "code",
   "execution_count": 171,
   "metadata": {},
   "outputs": [
    {
     "data": {
      "text/plain": [
       "KNeighborsClassifier(n_neighbors=1)"
      ]
     },
     "execution_count": 171,
     "metadata": {},
     "output_type": "execute_result"
    }
   ],
   "source": [
    "x = gill_arr\n",
    "y = target_arr\n",
    "knn = KNeighborsClassifier(n_neighbors=1)\n",
    "knn.fit(x,y)"
   ]
  },
  {
   "cell_type": "code",
   "execution_count": 174,
   "metadata": {},
   "outputs": [
    {
     "data": {
      "text/plain": [
       "array([1., 0., 0., 0., 1., 1., 0., 1., 1., 0., 0., 0.])"
      ]
     },
     "execution_count": 174,
     "metadata": {},
     "output_type": "execute_result"
    }
   ],
   "source": [
    "x_new = [[1,0,0,0,0,0,0,0,0,0,0,0],[0,1,0,0,0,0,0,0,0,0,0,0],[0,0,1,0,0,0,0,0,0,0,0,0],[0,0,0,1,0,0,0,0,0,0,0,0],[0,0,0,0,1,0,0,0,0,0,0,0],[0,0,0,0,0,1,0,0,0,0,0,0],[0,0,0,0,0,0,1,0,0,0,0,0],[0,0,0,0,0,0,0,1,0,0,0,0],[0,0,0,0,0,0,0,0,1,0,0,0],[0,0,0,0,0,0,0,0,0,1,0,0],[0,0,0,0,0,0,0,0,0,0,1,0],[0,0,0,0,0,0,0,0,0,0,0,1]]\n",
    "knn.predict(x_new)"
   ]
  },
  {
   "cell_type": "code",
   "execution_count": 175,
   "metadata": {},
   "outputs": [
    {
     "data": {
      "text/plain": [
       "KNeighborsClassifier(n_neighbors=1)"
      ]
     },
     "execution_count": 175,
     "metadata": {},
     "output_type": "execute_result"
    }
   ],
   "source": [
    "x = habitat_arr\n",
    "y = target_arr\n",
    "knn = KNeighborsClassifier(n_neighbors=1)\n",
    "knn.fit(x,y)"
   ]
  },
  {
   "cell_type": "code",
   "execution_count": 178,
   "metadata": {},
   "outputs": [
    {
     "data": {
      "text/plain": [
       "array([1., 1., 1., 0., 0., 1., 0.])"
      ]
     },
     "execution_count": 178,
     "metadata": {},
     "output_type": "execute_result"
    }
   ],
   "source": [
    "x_new = [[1,0,0,0,0,0,0],[0,1,0,0,0,0,0],[0,0,1,0,0,0,0],[0,0,0,1,0,0,0],[0,0,0,0,1,0,0],[0,0,0,0,0,1,0],[0,0,0,0,0,0,1]]\n",
    "knn.predict(x_new)"
   ]
  },
  {
   "cell_type": "markdown",
   "metadata": {},
   "source": [
    "### Conclusions\n",
    "\n",
    "From our prediction model, we can determine the following:\n",
    "\n",
    "For odors,[0., 1., 1., 0., 1., 0., 1., 1., 1.], we can see that 'Odor: Creosote', 'Odor: Foul', 'Odor: Musty', 'Odor: Pungent', 'Odor: Spicy', and 'Odor: Fishy' would all be poisonious while the others would be edible.\n",
    "\n",
    "I think this is a decent model for odors but it is not the best.  While it had 'Odor: Foul' being poisonious, which it most likely would be based off of its numbers, it didn't have 'Odor: None' as one and that was the one odor that had the most poisonious values.  That alone, makes me not see this as perfect.\n",
    "\n",
    "For cap color, [0., 0., 0., 0., 0., 1., 0., 0., 0., 0.], we see that only 'Cap Color: Pink' would be poisonious while all the others would be edible.\n",
    "\n",
    "I think this isn't that accurate because 'Cap Color: Pink' has only 144 being poisonious while there are some like 'Cap Color: Brown' that has 2284 poisonious entries but was predicted as edible.\n",
    "\n",
    "For gill color, [1., 0., 0., 0., 1., 1., 0., 1., 1., 0., 0., 0.], 'Gill Color: Buff', 'Gill Color: Black', 'Gill Color: Brown', 'Gill Color: Pink', and 'Gill Color: Green' would be poisonious while all the others would be edible.\n",
    "\n",
    "I think this one is the second best of our prediction models.  The ones selected as poisonious by the model are the ones with the higher percentage of poisonious values.\n",
    "\n",
    "For habitat, [1., 1., 1., 0., 0., 1., 0.], 'Habitat: Woods', 'Habitat: Grasses', 'Habitat: Leaves', and 'Habitat: Urban' would be poisonious while all the others would be edible.\n",
    "\n",
    "This is the best prediction model of the four.  The ones that were most likely to be poisonious from this prediction model, were.\n",
    "\n",
    "\n",
    "Using a KNN prediction model, I will say the only value that I tested that would be worth using it on would be the habitat values."
   ]
  }
 ],
 "metadata": {
  "kernelspec": {
   "display_name": "Python 3",
   "language": "python",
   "name": "python3"
  },
  "language_info": {
   "codemirror_mode": {
    "name": "ipython",
    "version": 3
   },
   "file_extension": ".py",
   "mimetype": "text/x-python",
   "name": "python",
   "nbconvert_exporter": "python",
   "pygments_lexer": "ipython3",
   "version": "3.8.5"
  }
 },
 "nbformat": 4,
 "nbformat_minor": 4
}
